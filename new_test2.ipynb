{
 "cells": [
  {
   "metadata": {
    "ExecuteTime": {
     "end_time": "2024-07-27T06:19:55.930725Z",
     "start_time": "2024-07-27T06:19:55.925359Z"
    }
   },
   "cell_type": "code",
   "source": [
    "import os\n",
    "import numpy as np\n",
    "import tensorflow as tf\n",
    "from tensorflow.keras.preprocessing.image import load_img, img_to_array\n",
    "from sklearn.model_selection import train_test_split\n",
    "import matplotlib.pyplot as plt\n",
    "import cv2"
   ],
   "id": "59d8b8ce9ec73cc4",
   "outputs": [],
   "execution_count": 9
  },
  {
   "metadata": {
    "ExecuteTime": {
     "end_time": "2024-07-27T06:20:02.937636Z",
     "start_time": "2024-07-27T06:19:56.738323Z"
    }
   },
   "cell_type": "code",
   "source": [
    "def load_data(img_dir, mask_dir, img_size=(256, 256)):\n",
    "    images = []\n",
    "    masks = []\n",
    "\n",
    "    for img_file in os.listdir(img_dir):\n",
    "        img_path = os.path.join(img_dir, img_file)\n",
    "        mask_path = os.path.join(mask_dir, img_file.replace('.jpg', '.jpg'))\n",
    "\n",
    "        img = load_img(img_path, target_size=img_size)\n",
    "        mask = load_img(mask_path, target_size=img_size, color_mode=\"grayscale\")\n",
    "\n",
    "        img = img_to_array(img) / 255.0\n",
    "        mask = img_to_array(mask).astype(np.uint8)  # Ensure mask is uint8\n",
    "\n",
    "        # Downsample mask to reduce memory usage\n",
    "        mask = cv2.resize(mask, img_size, interpolation=cv2.INTER_NEAREST)\n",
    "\n",
    "        images.append(img)\n",
    "        masks.append(mask)\n",
    "\n",
    "    return np.array(images), np.array(masks)\n",
    "\n",
    "img_dir = 'data/images'\n",
    "mask_dir = 'data/masks'\n",
    "img_size = (256, 256)  # Example size, adjust as necessary\n",
    "\n",
    "images, masks = load_data(img_dir, mask_dir, img_size)\n",
    "\n",
    "# Split Data\n",
    "X_train, X_val, y_train, y_val = train_test_split(images, masks, test_size=0.2, random_state=42)"
   ],
   "id": "5e00feb361aa3f1c",
   "outputs": [],
   "execution_count": 10
  },
  {
   "metadata": {
    "ExecuteTime": {
     "end_time": "2024-07-27T06:20:02.950424Z",
     "start_time": "2024-07-27T06:20:02.939017Z"
    }
   },
   "cell_type": "code",
   "source": [
    "from tensorflow.keras.models import Model\n",
    "from tensorflow.keras.layers import Input, Conv2D, MaxPooling2D, UpSampling2D, concatenate\n",
    "\n",
    "def unet_model(input_size=(256, 256, 3), num_classes=255):  # Adjust num_classes based on your max label value\n",
    "    inputs = Input(input_size)\n",
    "\n",
    "    conv1 = Conv2D(64, 3, activation='relu', padding='same')(inputs)\n",
    "    conv1 = Conv2D(64, 3, activation='relu', padding='same')(conv1)\n",
    "    pool1 = MaxPooling2D(pool_size=(2, 2))(conv1)\n",
    "\n",
    "    conv2 = Conv2D(128, 3, activation='relu', padding='same')(pool1)\n",
    "    conv2 = Conv2D(128, 3, activation='relu', padding='same')(conv2)\n",
    "    pool2 = MaxPooling2D(pool_size=(2, 2))(conv2)\n",
    "\n",
    "    conv3 = Conv2D(256, 3, activation='relu', padding='same')(pool2)\n",
    "    conv3 = Conv2D(256, 3, activation='relu', padding='same')(conv3)\n",
    "    pool3 = MaxPooling2D(pool_size=(2, 2))(conv3)\n",
    "\n",
    "    conv4 = Conv2D(512, 3, activation='relu', padding='same')(pool3)\n",
    "    conv4 = Conv2D(512, 3, activation='relu', padding='same')(conv4)\n",
    "    pool4 = MaxPooling2D(pool_size=(2, 2))(conv4)\n",
    "\n",
    "    conv5 = Conv2D(1024, 3, activation='relu', padding='same')(pool4)\n",
    "    conv5 = Conv2D(1024, 3, activation='relu', padding='same')(conv5)\n",
    "\n",
    "    up6 = concatenate([UpSampling2D(size=(2, 2))(conv5), conv4], axis=-1)\n",
    "    conv6 = Conv2D(512, 3, activation='relu', padding='same')(up6)\n",
    "    conv6 = Conv2D(512, 3, activation='relu', padding='same')(conv6)\n",
    "\n",
    "    up7 = concatenate([UpSampling2D(size=(2, 2))(conv6), conv3], axis=-1)\n",
    "    conv7 = Conv2D(256, 3, activation='relu', padding='same')(up7)\n",
    "    conv7 = Conv2D(256, 3, activation='relu', padding='same')(conv7)\n",
    "\n",
    "    up8 = concatenate([UpSampling2D(size=(2, 2))(conv7), conv2], axis=-1)\n",
    "    conv8 = Conv2D(128, 3, activation='relu', padding='same')(up8)\n",
    "    conv8 = Conv2D(128, 3, activation='relu', padding='same')(conv8)\n",
    "\n",
    "    up9 = concatenate([UpSampling2D(size=(2, 2))(conv8), conv1], axis=-1)\n",
    "    conv9 = Conv2D(64, 3, activation='relu', padding='same')(up9)\n",
    "    conv9 = Conv2D(64, 3, activation='relu', padding='same')(conv9)\n",
    "\n",
    "    conv10 = Conv2D(num_classes, 1, activation='softmax')(conv9)\n",
    "\n",
    "    model = Model(inputs=[inputs], outputs=[conv10])\n",
    "\n",
    "    return model"
   ],
   "id": "caeb3ea38786f4cf",
   "outputs": [],
   "execution_count": 11
  },
  {
   "metadata": {
    "ExecuteTime": {
     "end_time": "2024-07-27T06:20:03.162307Z",
     "start_time": "2024-07-27T06:20:02.951817Z"
    }
   },
   "cell_type": "code",
   "source": "model = unet_model(input_size=(img_size[0], img_size[1], 3), num_classes=255)  # Adjust num_classes based on your max label value",
   "id": "6186868966e06df0",
   "outputs": [],
   "execution_count": 12
  },
  {
   "metadata": {
    "ExecuteTime": {
     "end_time": "2024-07-27T06:20:03.170625Z",
     "start_time": "2024-07-27T06:20:03.163616Z"
    }
   },
   "cell_type": "code",
   "source": "model.compile(optimizer='adam', loss='sparse_categorical_crossentropy', metrics=['accuracy'])",
   "id": "c89210243dbc5623",
   "outputs": [],
   "execution_count": 13
  },
  {
   "metadata": {
    "jupyter": {
     "is_executing": true
    },
    "ExecuteTime": {
     "start_time": "2024-07-27T06:20:03.171632Z"
    }
   },
   "cell_type": "code",
   "source": [
    "# Evaluate and Visualize Results\n",
    "history = model.fit(X_train, y_train, epochs=50, batch_size=8, validation_data=(X_val, y_val))"
   ],
   "id": "f5ee04774a2db9a5",
   "outputs": [
    {
     "name": "stdout",
     "output_type": "stream",
     "text": [
      "Epoch 1/50\n"
     ]
    }
   ],
   "execution_count": null
  },
  {
   "metadata": {
    "jupyter": {
     "is_executing": true
    }
   },
   "cell_type": "code",
   "source": [
    "# Evaluate and Visualize Results\n",
    "val_loss, val_accuracy = model.evaluate(X_val, y_val)\n",
    "print(f\"Validation Loss: {val_loss}\")\n",
    "print(f\"Validation Accuracy: {val_accuracy}\")"
   ],
   "id": "4f58f7d1395db43c",
   "outputs": [],
   "execution_count": null
  },
  {
   "metadata": {
    "jupyter": {
     "is_executing": true
    }
   },
   "cell_type": "code",
   "source": [
    "def visualize_predictions(model, images, masks, num_images=5):\n",
    "    for i in range(num_images):\n",
    "        idx = np.random.randint(0, len(images))\n",
    "        image = images[idx]\n",
    "        mask = masks[idx]\n",
    "        prediction = model.predict(np.expand_dims(image, axis=0))[0]\n",
    "\n",
    "        fig, ax = plt.subplots(1, 3, figsize=(15, 5))\n",
    "        ax[0].imshow(image)\n",
    "        ax[0].set_title('Image')\n",
    "        ax[1].imshow(mask.squeeze(), cmap='gray')\n",
    "        ax[1].set_title('Ground Truth')\n",
    "        ax[2].imshow(np.argmax(prediction, axis=-1), cmap='gray')\n",
    "        ax[2].set_title('Prediction')\n",
    "        plt.show()\n",
    "\n",
    "visualize_predictions(model, X_val, y_val)"
   ],
   "id": "8d98d1251ad5c4ad",
   "outputs": [],
   "execution_count": null
  },
  {
   "metadata": {
    "jupyter": {
     "is_executing": true
    }
   },
   "cell_type": "code",
   "source": [
    "# Save the model\n",
    "model_save_path = 'Saved_model/model.h5'  # Specify your path here\n",
    "model.save(model_save_path)\n",
    "print(f\"Model saved to {model_save_path}\")"
   ],
   "id": "2f757100ac84018c",
   "outputs": [],
   "execution_count": null
  },
  {
   "metadata": {},
   "cell_type": "code",
   "outputs": [],
   "execution_count": null,
   "source": "",
   "id": "5800e5fba19159dd"
  }
 ],
 "metadata": {
  "kernelspec": {
   "display_name": "Python 3",
   "language": "python",
   "name": "python3"
  },
  "language_info": {
   "codemirror_mode": {
    "name": "ipython",
    "version": 2
   },
   "file_extension": ".py",
   "mimetype": "text/x-python",
   "name": "python",
   "nbconvert_exporter": "python",
   "pygments_lexer": "ipython2",
   "version": "2.7.6"
  }
 },
 "nbformat": 4,
 "nbformat_minor": 5
}
