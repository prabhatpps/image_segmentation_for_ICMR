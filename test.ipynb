{
 "cells": [
  {
   "cell_type": "code",
   "id": "initial_id",
   "metadata": {
    "collapsed": true,
    "ExecuteTime": {
     "end_time": "2024-07-25T17:53:10.127646Z",
     "start_time": "2024-07-25T17:53:10.123126Z"
    }
   },
   "source": [
    "import os\n",
    "import numpy as np\n",
    "import tensorflow as tf\n",
    "from tensorflow.keras.preprocessing.image import load_img, img_to_array\n",
    "from tensorflow.keras.utils import to_categorical\n",
    "from sklearn.model_selection import train_test_split\n",
    "import matplotlib.pyplot as plt\n"
   ],
   "outputs": [],
   "execution_count": 6
  },
  {
   "metadata": {
    "ExecuteTime": {
     "end_time": "2024-07-25T17:54:12.064197Z",
     "start_time": "2024-07-25T17:54:12.012015Z"
    }
   },
   "cell_type": "code",
   "source": [
    "# Define the number of unique classes in your masks\n",
    "num_classes = 5  # Example: Adjust based on your specific dataset\n",
    "\n",
    "def load_data(img_dir, mask_dir, img_size=(256, 256)):\n",
    "    images = []\n",
    "    masks = []\n",
    "\n",
    "    for img_file in os.listdir(img_dir):\n",
    "        img_path = os.path.join(img_dir, img_file)\n",
    "        mask_path = os.path.join(mask_dir, img_file.replace('.jpg', '.jpg'))\n",
    "\n",
    "        img = load_img(img_path, target_size=img_size)\n",
    "        mask = load_img(mask_path, target_size=img_size, color_mode=\"grayscale\")\n",
    "\n",
    "        img = img_to_array(img) / 255.0\n",
    "        mask = img_to_array(mask)\n",
    "        \n",
    "        # Ensure the mask values are integers\n",
    "        mask = mask.astype(int)\n",
    "        # Convert mask to categorical\n",
    "        mask = to_categorical(mask, num_classes=num_classes)\n",
    "        \n",
    "        images.append(img)\n",
    "        masks.append(mask)\n",
    "\n",
    "    return np.array(images), np.array(masks)\n",
    "\n",
    "img_dir = 'DATA_Test/images'\n",
    "mask_dir = 'DATA_Test/masks'\n",
    "img_size = (256, 256)  # Example size, adjust as necessary\n",
    "\n",
    "images, masks = load_data(img_dir, mask_dir, img_size)\n"
   ],
   "id": "484ce59cb94e03fa",
   "outputs": [
    {
     "ename": "IndexError",
     "evalue": "index 222 is out of bounds for axis 1 with size 5",
     "output_type": "error",
     "traceback": [
      "\u001B[1;31m---------------------------------------------------------------------------\u001B[0m",
      "\u001B[1;31mIndexError\u001B[0m                                Traceback (most recent call last)",
      "Cell \u001B[1;32mIn[8], line 32\u001B[0m\n\u001B[0;32m     29\u001B[0m mask_dir \u001B[38;5;241m=\u001B[39m \u001B[38;5;124m'\u001B[39m\u001B[38;5;124mDATA_Test/masks\u001B[39m\u001B[38;5;124m'\u001B[39m\n\u001B[0;32m     30\u001B[0m img_size \u001B[38;5;241m=\u001B[39m (\u001B[38;5;241m256\u001B[39m, \u001B[38;5;241m256\u001B[39m)  \u001B[38;5;66;03m# Example size, adjust as necessary\u001B[39;00m\n\u001B[1;32m---> 32\u001B[0m images, masks \u001B[38;5;241m=\u001B[39m \u001B[43mload_data\u001B[49m\u001B[43m(\u001B[49m\u001B[43mimg_dir\u001B[49m\u001B[43m,\u001B[49m\u001B[43m \u001B[49m\u001B[43mmask_dir\u001B[49m\u001B[43m,\u001B[49m\u001B[43m \u001B[49m\u001B[43mimg_size\u001B[49m\u001B[43m)\u001B[49m\n",
      "Cell \u001B[1;32mIn[8], line 21\u001B[0m, in \u001B[0;36mload_data\u001B[1;34m(img_dir, mask_dir, img_size)\u001B[0m\n\u001B[0;32m     19\u001B[0m mask \u001B[38;5;241m=\u001B[39m mask\u001B[38;5;241m.\u001B[39mastype(\u001B[38;5;28mint\u001B[39m)\n\u001B[0;32m     20\u001B[0m \u001B[38;5;66;03m# Convert mask to categorical\u001B[39;00m\n\u001B[1;32m---> 21\u001B[0m mask \u001B[38;5;241m=\u001B[39m \u001B[43mto_categorical\u001B[49m\u001B[43m(\u001B[49m\u001B[43mmask\u001B[49m\u001B[43m,\u001B[49m\u001B[43m \u001B[49m\u001B[43mnum_classes\u001B[49m\u001B[38;5;241;43m=\u001B[39;49m\u001B[43mnum_classes\u001B[49m\u001B[43m)\u001B[49m\n\u001B[0;32m     23\u001B[0m images\u001B[38;5;241m.\u001B[39mappend(img)\n\u001B[0;32m     24\u001B[0m masks\u001B[38;5;241m.\u001B[39mappend(mask)\n",
      "File \u001B[1;32mD:\\ICMR_Project\\New_Test_Project\\.venv\\Lib\\site-packages\\keras\\src\\utils\\numerical_utils.py:98\u001B[0m, in \u001B[0;36mto_categorical\u001B[1;34m(x, num_classes)\u001B[0m\n\u001B[0;32m     96\u001B[0m batch_size \u001B[38;5;241m=\u001B[39m x\u001B[38;5;241m.\u001B[39mshape[\u001B[38;5;241m0\u001B[39m]\n\u001B[0;32m     97\u001B[0m categorical \u001B[38;5;241m=\u001B[39m np\u001B[38;5;241m.\u001B[39mzeros((batch_size, num_classes))\n\u001B[1;32m---> 98\u001B[0m \u001B[43mcategorical\u001B[49m\u001B[43m[\u001B[49m\u001B[43mnp\u001B[49m\u001B[38;5;241;43m.\u001B[39;49m\u001B[43marange\u001B[49m\u001B[43m(\u001B[49m\u001B[43mbatch_size\u001B[49m\u001B[43m)\u001B[49m\u001B[43m,\u001B[49m\u001B[43m \u001B[49m\u001B[43mx\u001B[49m\u001B[43m]\u001B[49m \u001B[38;5;241m=\u001B[39m \u001B[38;5;241m1\u001B[39m\n\u001B[0;32m     99\u001B[0m output_shape \u001B[38;5;241m=\u001B[39m input_shape \u001B[38;5;241m+\u001B[39m (num_classes,)\n\u001B[0;32m    100\u001B[0m categorical \u001B[38;5;241m=\u001B[39m np\u001B[38;5;241m.\u001B[39mreshape(categorical, output_shape)\n",
      "\u001B[1;31mIndexError\u001B[0m: index 222 is out of bounds for axis 1 with size 5"
     ]
    }
   ],
   "execution_count": 8
  },
  {
   "metadata": {},
   "cell_type": "code",
   "outputs": [],
   "execution_count": null,
   "source": "X_train, X_val, y_train, y_val = train_test_split(images, masks, test_size=0.2, random_state=42)\n",
   "id": "c114db7a986bc355"
  },
  {
   "metadata": {},
   "cell_type": "code",
   "outputs": [],
   "execution_count": null,
   "source": [
    "from tensorflow.keras.models import Model\n",
    "from tensorflow.keras.layers import Input, Conv2D, MaxPooling2D, UpSampling2D, concatenate\n",
    "\n",
    "def unet_model(input_size=(256, 256, 3), num_classes=5):\n",
    "    inputs = Input(input_size)\n",
    "\n",
    "    conv1 = Conv2D(64, 3, activation='relu', padding='same')(inputs)\n",
    "    conv1 = Conv2D(64, 3, activation='relu', padding='same')(conv1)\n",
    "    pool1 = MaxPooling2D(pool_size=(2, 2))(conv1)\n",
    "\n",
    "    conv2 = Conv2D(128, 3, activation='relu', padding='same')(pool1)\n",
    "    conv2 = Conv2D(128, 3, activation='relu', padding='same')(conv2)\n",
    "    pool2 = MaxPooling2D(pool_size=(2, 2))(conv2)\n",
    "\n",
    "    conv3 = Conv2D(256, 3, activation='relu', padding='same')(pool2)\n",
    "    conv3 = Conv2D(256, 3, activation='relu', padding='same')(conv3)\n",
    "    pool3 = MaxPooling2D(pool_size=(2, 2))(conv3)\n",
    "\n",
    "    conv4 = Conv2D(512, 3, activation='relu', padding='same')(pool3)\n",
    "    conv4 = Conv2D(512, 3, activation='relu', padding='same')(conv4)\n",
    "    pool4 = MaxPooling2D(pool_size=(2, 2))(conv4)\n",
    "\n",
    "    conv5 = Conv2D(1024, 3, activation='relu', padding='same')(pool4)\n",
    "    conv5 = Conv2D(1024, 3, activation='relu', padding='same')(conv5)\n",
    "\n",
    "    up6 = concatenate([UpSampling2D(size=(2, 2))(conv5), conv4], axis=-1)\n",
    "    conv6 = Conv2D(512, 3, activation='relu', padding='same')(up6)\n",
    "    conv6 = Conv2D(512, 3, activation='relu', padding='same')(conv6)\n",
    "\n",
    "    up7 = concatenate([UpSampling2D(size=(2, 2))(conv6), conv3], axis=-1)\n",
    "    conv7 = Conv2D(256, 3, activation='relu', padding='same')(up7)\n",
    "    conv7 = Conv2D(256, 3, activation='relu', padding='same')(conv7)\n",
    "\n",
    "    up8 = concatenate([UpSampling2D(size=(2, 2))(conv7), conv2], axis=-1)\n",
    "    conv8 = Conv2D(128, 3, activation='relu', padding='same')(up8)\n",
    "    conv8 = Conv2D(128, 3, activation='relu', padding='same')(conv8)\n",
    "\n",
    "    up9 = concatenate([UpSampling2D(size=(2, 2))(conv8), conv1], axis=-1)\n",
    "    conv9 = Conv2D(64, 3, activation='relu', padding='same')(up9)\n",
    "    conv9 = Conv2D(64, 3, activation='relu', padding='same')(conv9)\n",
    "\n",
    "    conv10 = Conv2D(num_classes, 1, activation='softmax')(conv9)\n",
    "\n",
    "    model = Model(inputs=[inputs], outputs=[conv10])\n",
    "\n",
    "    return model\n",
    "\n",
    "model = unet_model(input_size=(img_size[0], img_size[1], 3), num_classes=num_classes)\n"
   ],
   "id": "59e578e81f28c65e"
  },
  {
   "metadata": {},
   "cell_type": "code",
   "outputs": [],
   "execution_count": null,
   "source": "model.compile(optimizer='adam', loss='categorical_crossentropy', metrics=['accuracy'])\n",
   "id": "24b2774ad528afe7"
  },
  {
   "metadata": {},
   "cell_type": "code",
   "outputs": [],
   "execution_count": null,
   "source": "history = model.fit(X_train, y_train, epochs=50, batch_size=8, validation_data=(X_val, y_val))\n",
   "id": "2efa41bff20b5205"
  },
  {
   "metadata": {},
   "cell_type": "code",
   "outputs": [],
   "execution_count": null,
   "source": [
    "# Evaluate on validation data\n",
    "val_loss, val_accuracy = model.evaluate(X_val, y_val)\n",
    "print(f\"Validation Loss: {val_loss}\")\n",
    "print(f\"Validation Accuracy: {val_accuracy}\")\n",
    "\n",
    "# Visualize some predictions\n",
    "def visualize_predictions(model, images, masks, num_images=5):\n",
    "    for i in range(num_images):\n",
    "        idx = np.random.randint(0, len(images))\n",
    "        image = images[idx]\n",
    "        mask = masks[idx]\n",
    "        prediction = model.predict(np.expand_dims(image, axis=0))[0]\n",
    "        \n",
    "        fig, ax = plt.subplots(1, 3, figsize=(15, 5))\n",
    "        ax[0].imshow(image)\n",
    "        ax[0].set_title('Image')\n",
    "        ax[1].imshow(np.argmax(mask, axis=-1))\n",
    "        ax[1].set_title('Ground Truth')\n",
    "        ax[2].imshow(np.argmax(prediction, axis=-1))\n",
    "        ax[2].set_title('Prediction')\n",
    "        plt.show()\n",
    "\n",
    "visualize_predictions(model, X_val, y_val)\n"
   ],
   "id": "27bf29d604552140"
  },
  {
   "metadata": {
    "ExecuteTime": {
     "end_time": "2024-07-27T06:46:44.478260Z",
     "start_time": "2024-07-27T06:46:44.445074Z"
    }
   },
   "cell_type": "code",
   "source": [
    "import os\n",
    "import numpy as np\n",
    "import tensorflow as tf\n",
    "from tensorflow.keras.preprocessing.image import load_img, img_to_array\n",
    "from sklearn.model_selection import train_test_split\n",
    "import matplotlib.pyplot as plt\n",
    "import cv2\n",
    "\n",
    "# Configure TensorFlow to use GPU\n",
    "gpus = tf.config.experimental.list_physical_devices('GPU')\n",
    "print(gpus)\n",
    "if gpus:\n",
    "    try:\n",
    "        for gpu in gpus:\n",
    "            tf.config.experimental.set_memory_growth(gpu, True)\n",
    "        logical_gpus = tf.config.experimental.list_logical_devices('GPU')\n",
    "        print(f\"{len(gpus)} Physical GPUs, {len(logical_gpus)} Logical GPUs\")\n",
    "    except RuntimeError as e:\n",
    "        print(e)"
   ],
   "id": "42bd143015fc2502",
   "outputs": [
    {
     "name": "stdout",
     "output_type": "stream",
     "text": [
      "[]\n"
     ]
    }
   ],
   "execution_count": 2
  },
  {
   "metadata": {},
   "cell_type": "code",
   "outputs": [],
   "execution_count": null,
   "source": "",
   "id": "183002bbe75d5de4"
  }
 ],
 "metadata": {
  "kernelspec": {
   "display_name": "Python 3",
   "language": "python",
   "name": "python3"
  },
  "language_info": {
   "codemirror_mode": {
    "name": "ipython",
    "version": 2
   },
   "file_extension": ".py",
   "mimetype": "text/x-python",
   "name": "python",
   "nbconvert_exporter": "python",
   "pygments_lexer": "ipython2",
   "version": "2.7.6"
  }
 },
 "nbformat": 4,
 "nbformat_minor": 5
}
